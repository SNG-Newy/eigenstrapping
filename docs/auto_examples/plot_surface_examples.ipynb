{
  "cells": [
    {
      "cell_type": "markdown",
      "metadata": {},
      "source": [
        "\n# Getting Started\n\n## Quick introduction to brain maps and eigenmodes\n\nPatterns on the cortical surface or in the subcortex (\"brain maps\") more often\nthan not express with smoothness - spatial autocorrelation. Accounting\nfor this in statistical testing of the associations between or the influence\nthat one brain map has on another is a non-trivial problem. More recently,\nmethods that account for smoothness have been developed, but these carry their own\nissues (see our [paper](https://null.null) for an in-depth discussion on this topic).\n\nEigenmodes of a surface encode all pairwise (auto)correlations (i.e., smoothness).\nThe reason for this is too maths heavy for a quick intro, but suffice to say\nthat this has been discussed many times by people smarter than the people who came up with\nthis method (see `References <references>`).\n\nEigenstrapping offers a solution by leveraging this fact, and another property of\neigenmodes: they are orthogonal. By taking random rotations of them, one can\ncreate new brain maps with the same smoothness but randomized topology. The steps\nbelow will help you get started and build your own surrogate maps.\n"
      ]
    },
    {
      "cell_type": "code",
      "execution_count": null,
      "metadata": {
        "collapsed": false
      },
      "outputs": [],
      "source": [
        "# Input data types\n# ================\n\n# ``eigenstrapping`` requires a few inputs:\n\n# * A brain map, i.e., a one-dimensional vector, and either:\n\n# * A surface mesh, i.e., a set of vertices and face indices\n# * A set of eigenmodes and corresponding eigenvalues\n    \n# For the first run, we will load all of these files from the example dataset,\n# but let's assume that these files have already been generated. \n\n# ``eigenstrapping`` can handle a variety of inputs:\n\n# * Delimited `*.txt` files\n# * Neuroimaging files such as `*.nii`, `*.gii`, or `*scalar.gii`\n# * Data and memory-mapped distance matrices written to `*.npy` files\n# * Numpy arrays and array-like objects\n\n# First run\n# =========\n\n# The package comes with example surfaces (and their eigenmodes) and cortical gradient data \n# from Margulies' 2015 paper (see :ref:`References <references>`). Let's start by importing the data (this may take\n# a few moments):\n\nfrom eigenstrapping.datasets import load_surface_examples\n\nsurf_lh, surf_rh, data_lh, data_rh, emodes_lh, emodes_rh, evals_lh, evals_rh = load_surface_examples(with_surface=True)\nprint(surf_lh)\n \nprint(data_lh.shape)\n    \nprint(emodes_lh.shape)\n    \nprint(evals_lh.shape)\n    \n#Now let's plot the data on the surface.\n\nfrom eigenstrapping.plotting import csplot\n    \ncsplot(data_lh, 'fsaverage')\n\n#Now let's make a surrogate brain map and plot it on the surface.\n\nfrom eigenstrapping import SurfaceEigenstrapping\n    \neigen = SurfaceEigenstrapping(\n                    data=data_lh,\n                    emodes=emodes_lh,\n                    evals=evals_lh,\n                    num_modes=100,\n                    resample=True,\n                    )\nsurr = eigen.generate()\n    \ncsplot(surr, 'fsaverage')"
      ]
    }
  ],
  "metadata": {
    "kernelspec": {
      "display_name": "Python 3",
      "language": "python",
      "name": "python3"
    },
    "language_info": {
      "codemirror_mode": {
        "name": "ipython",
        "version": 3
      },
      "file_extension": ".py",
      "mimetype": "text/x-python",
      "name": "python",
      "nbconvert_exporter": "python",
      "pygments_lexer": "ipython3",
      "version": "3.9.19"
    }
  },
  "nbformat": 4,
  "nbformat_minor": 0
}